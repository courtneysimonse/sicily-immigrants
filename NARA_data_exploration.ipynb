{
 "cells": [
  {
   "cell_type": "code",
   "execution_count": 1,
   "metadata": {},
   "outputs": [],
   "source": [
    "import pandas as pd\n",
    "import numpy as np"
   ]
  },
  {
   "cell_type": "code",
   "execution_count": 7,
   "metadata": {},
   "outputs": [],
   "source": [
    "csv1 = open('./data/italians_parta.csv', 'r', newline='')\n",
    "csv2 = open('./data/italians_partb.csv', 'r', newline='')\n",
    "csv3 = open('./data/italians_partc.csv', 'r', newline='')"
   ]
  },
  {
   "cell_type": "code",
   "execution_count": 8,
   "metadata": {},
   "outputs": [],
   "source": [
    "df1 = pd.read_csv(csv1)\n",
    "df2 = pd.read_csv(csv2)\n",
    "df3 = pd.read_csv(csv3)"
   ]
  },
  {
   "cell_type": "code",
   "execution_count": 10,
   "metadata": {},
   "outputs": [
    {
     "data": {
      "text/html": [
       "<div>\n",
       "<style scoped>\n",
       "    .dataframe tbody tr th:only-of-type {\n",
       "        vertical-align: middle;\n",
       "    }\n",
       "\n",
       "    .dataframe tbody tr th {\n",
       "        vertical-align: top;\n",
       "    }\n",
       "\n",
       "    .dataframe thead th {\n",
       "        text-align: right;\n",
       "    }\n",
       "</style>\n",
       "<table border=\"1\" class=\"dataframe\">\n",
       "  <thead>\n",
       "    <tr style=\"text-align: right;\">\n",
       "      <th></th>\n",
       "      <th>LastName</th>\n",
       "      <th>FirstName</th>\n",
       "      <th>Age</th>\n",
       "      <th>Occupation</th>\n",
       "      <th>Literacy</th>\n",
       "      <th>CountyofOrigin</th>\n",
       "      <th>CityTownofLastResidence</th>\n",
       "      <th>DestinationCityTown</th>\n",
       "      <th>TransitTravelCompartment</th>\n",
       "      <th>ManifestID</th>\n",
       "    </tr>\n",
       "  </thead>\n",
       "  <tbody>\n",
       "    <tr>\n",
       "      <th>0</th>\n",
       "      <td>ZERONI</td>\n",
       "      <td>CARLO</td>\n",
       "      <td>39</td>\n",
       "      <td>MANUFACTURER</td>\n",
       "      <td>READ &amp; WRITE</td>\n",
       "      <td>ITALY</td>\n",
       "      <td>MIDDLESEX</td>\n",
       "      <td>CALIFORNIA</td>\n",
       "      <td>Return trip to USA - non US Citizen [Transit];...</td>\n",
       "      <td>82279.0</td>\n",
       "    </tr>\n",
       "    <tr>\n",
       "      <th>1</th>\n",
       "      <td>ARATA</td>\n",
       "      <td>ANNA</td>\n",
       "      <td>16</td>\n",
       "      <td>FARMER</td>\n",
       "      <td>UNKNOWN</td>\n",
       "      <td>ITALY</td>\n",
       "      <td>SAN-FRANCISCO</td>\n",
       "      <td>SAN-FRANCISCO</td>\n",
       "      <td>Return trip to USA - non US Citizen [Transit];...</td>\n",
       "      <td>80120.0</td>\n",
       "    </tr>\n",
       "    <tr>\n",
       "      <th>2</th>\n",
       "      <td>BRILLANTI</td>\n",
       "      <td>SALVATORE</td>\n",
       "      <td>34</td>\n",
       "      <td>FISHERMAN</td>\n",
       "      <td>NO</td>\n",
       "      <td>ITALY</td>\n",
       "      <td>ITALY</td>\n",
       "      <td>NEW YORK</td>\n",
       "      <td>Return trip to USA - non US Citizen [Transit];...</td>\n",
       "      <td>82224.0</td>\n",
       "    </tr>\n",
       "    <tr>\n",
       "      <th>3</th>\n",
       "      <td>BUONGIORNO</td>\n",
       "      <td>ANTONIO</td>\n",
       "      <td>49</td>\n",
       "      <td>BLACKSMITH</td>\n",
       "      <td>READ &amp; WRITE</td>\n",
       "      <td>ITALY</td>\n",
       "      <td>SCIACCA</td>\n",
       "      <td>NEW YORK</td>\n",
       "      <td>Return trip to USA - non US Citizen [Transit];...</td>\n",
       "      <td>82236.0</td>\n",
       "    </tr>\n",
       "    <tr>\n",
       "      <th>4</th>\n",
       "      <td>BUONGIORNO</td>\n",
       "      <td>GIUSEPPE</td>\n",
       "      <td>60</td>\n",
       "      <td>BLACKSMITH</td>\n",
       "      <td>READ &amp; WRITE</td>\n",
       "      <td>ITALY</td>\n",
       "      <td>SCIACCA</td>\n",
       "      <td>NEW YORK</td>\n",
       "      <td>Return trip to USA - non US Citizen [Transit];...</td>\n",
       "      <td>82236.0</td>\n",
       "    </tr>\n",
       "  </tbody>\n",
       "</table>\n",
       "</div>"
      ],
      "text/plain": [
       "     LastName  FirstName Age    Occupation      Literacy CountyofOrigin  \\\n",
       "0      ZERONI      CARLO  39  MANUFACTURER  READ & WRITE          ITALY   \n",
       "1       ARATA       ANNA  16        FARMER       UNKNOWN          ITALY   \n",
       "2   BRILLANTI  SALVATORE  34     FISHERMAN            NO          ITALY   \n",
       "3  BUONGIORNO    ANTONIO  49    BLACKSMITH  READ & WRITE          ITALY   \n",
       "4  BUONGIORNO   GIUSEPPE  60    BLACKSMITH  READ & WRITE          ITALY   \n",
       "\n",
       "  CityTownofLastResidence DestinationCityTown  \\\n",
       "0               MIDDLESEX          CALIFORNIA   \n",
       "1           SAN-FRANCISCO       SAN-FRANCISCO   \n",
       "2                   ITALY            NEW YORK   \n",
       "3                 SCIACCA            NEW YORK   \n",
       "4                 SCIACCA            NEW YORK   \n",
       "\n",
       "                            TransitTravelCompartment  ManifestID  \n",
       "0  Return trip to USA - non US Citizen [Transit];...     82279.0  \n",
       "1  Return trip to USA - non US Citizen [Transit];...     80120.0  \n",
       "2  Return trip to USA - non US Citizen [Transit];...     82224.0  \n",
       "3  Return trip to USA - non US Citizen [Transit];...     82236.0  \n",
       "4  Return trip to USA - non US Citizen [Transit];...     82236.0  "
      ]
     },
     "execution_count": 10,
     "metadata": {},
     "output_type": "execute_result"
    }
   ],
   "source": [
    "df = df1.append([df2,df3], sort=False)\n",
    "df.head()"
   ]
  },
  {
   "cell_type": "code",
   "execution_count": 13,
   "metadata": {},
   "outputs": [
    {
     "data": {
      "text/plain": [
       "U                    383977\n",
       "NAPOLI                10717\n",
       "PALERMO                6644\n",
       "NEW YORK               6293\n",
       "TERMINI                4276\n",
       "UNKNOWN                3958\n",
       "SCIACCA                3527\n",
       "MESSINA                3037\n",
       "AVELLINO               2282\n",
       "PHILADELPHIA           2245\n",
       "CAMPOBASSO             1915\n",
       "POTENZA                1888\n",
       "SALERNO                1579\n",
       "NICASTRO               1403\n",
       "COSENZA                1397\n",
       "CORLEONE               1371\n",
       "CEFALU                 1319\n",
       "VALLEDOLMO             1311\n",
       "ISERNIA                1283\n",
       "TERMINI-IMERESE        1206\n",
       "NICOSIA                1166\n",
       "LIPARI                 1135\n",
       "MONTEMAGGIORE          1128\n",
       "TORINO                 1097\n",
       "TRABIA                 1093\n",
       "NAPLES                 1062\n",
       "CASERTA                1051\n",
       "MARINEO                1047\n",
       "BOSTON                 1043\n",
       "BROOKLYN               1030\n",
       "                      ...  \n",
       "FABENE                    1\n",
       "ALESSO-DI-C.              1\n",
       "DIANO                     1\n",
       "SORTANO                   1\n",
       "VALDENGI                  1\n",
       "GRANI-GNE                 1\n",
       "CARONITI                  1\n",
       "VILLA CASTELLI            1\n",
       "GUARDA-PERTICARA          1\n",
       "PIETROTERRA               1\n",
       "CASOOLO                   1\n",
       "CESANI                    1\n",
       "AURANO NUSCO              1\n",
       "ALIMINOSA                 1\n",
       "BAZOUONE                  1\n",
       "CORNPADALERNA             1\n",
       "GUILMI                    1\n",
       "ALBOREGGIO                1\n",
       "CIRCETTO                  1\n",
       "GIOVENE                   1\n",
       "CERTEROLI                 1\n",
       "MADONNA DI CIRANE         1\n",
       "COCCAMIO                  1\n",
       "TEORI                     1\n",
       "OLI---                    1\n",
       "ROCCANUO                  1\n",
       "ALVI--NANELLO             1\n",
       "PREDGANA                  1\n",
       "S ELIA P                  1\n",
       "FOSATO                    1\n",
       "Name: CityTownofLastResidence, Length: 27334, dtype: int64"
      ]
     },
     "execution_count": 13,
     "metadata": {},
     "output_type": "execute_result"
    }
   ],
   "source": [
    "df['CityTownofLastResidence'].value_counts()"
   ]
  },
  {
   "cell_type": "code",
   "execution_count": 14,
   "metadata": {},
   "outputs": [
    {
     "data": {
      "text/plain": [
       "NEW YORK               419099\n",
       "USA                    118909\n",
       "BROOKLYN                15187\n",
       "PHILADELPHIA            14521\n",
       "BOSTON                  12447\n",
       "CHICAGO                  9532\n",
       "NEW-YORK                 5639\n",
       "BUFFALO                  5613\n",
       "NEW-ORLEANS              5324\n",
       "CALIFORNIA               5078\n",
       "BROOKLYN NY              4918\n",
       "SAN-FRANCISCO            4369\n",
       "PHILADELPHIA PA          4106\n",
       "BOSTON MA                4102\n",
       "PITTSBURG                3820\n",
       "BOSTON-MA                3411\n",
       "PROVVIDENCE              2974\n",
       "PITTSBURGH               2722\n",
       "PENNSYLVANIA             2694\n",
       "NEWARK                   2668\n",
       "PROVIDENCE               2460\n",
       "SAN FRANCISCO            2448\n",
       "PITTSBURG PA             2345\n",
       "CHICAGO IL               2312\n",
       "PHILADELPHIA-PA          1751\n",
       "BALTIMORE                1746\n",
       "CHICAGO-IL               1727\n",
       "PA                       1656\n",
       "PROVIDENCE RI            1443\n",
       "MONTREAL                 1376\n",
       "                        ...  \n",
       "W TROIA NY                  1\n",
       "CARLEGATE-UT                1\n",
       "CORK                        1\n",
       "LENVENWORTH                 1\n",
       "WALLING                     1\n",
       "LAICHBURGH PA               1\n",
       "OLO-FORGE                   1\n",
       "NE ORLEANS LA               1\n",
       "ZURBAN                      1\n",
       "DUPORT                      1\n",
       "CLINTON WV                  1\n",
       "OLOKA (INDIAN TERRI         1\n",
       "VULCAN-MA                   1\n",
       "LAMICEL MASS                1\n",
       "GICORYMAS (MEXIQUE)         1\n",
       "CARRTON-IL                  1\n",
       "BEISSEINER-MI               1\n",
       "MERIDA-FLORIDA              1\n",
       "IRON-BELT                   1\n",
       "VOINNEBURG                  1\n",
       "BORGARELLO                  1\n",
       "MOULTAN                     1\n",
       "ONETA                       1\n",
       "SCHENUTAD-NY                1\n",
       "-CITY                       1\n",
       "DAGOS MINES PA              1\n",
       "SILVER PLAMER               1\n",
       "KANSAS-CITY-KS              1\n",
       "EVANS                       1\n",
       "KRESS                       1\n",
       "Name: DestinationCityTown, Length: 12713, dtype: int64"
      ]
     },
     "execution_count": 14,
     "metadata": {},
     "output_type": "execute_result"
    }
   ],
   "source": [
    "df['DestinationCityTown'].value_counts()"
   ]
  },
  {
   "cell_type": "code",
   "execution_count": 15,
   "metadata": {},
   "outputs": [
    {
     "data": {
      "text/plain": [
       "81903.0     1709\n",
       "81818.0     1456\n",
       "81866.0     1452\n",
       "82765.0     1445\n",
       "81189.0     1436\n",
       "81877.0     1334\n",
       "81177.0     1323\n",
       "242.0       1319\n",
       "81535.0     1298\n",
       "83503.0     1297\n",
       "81855.0     1270\n",
       "83188.0     1268\n",
       "81118.0     1254\n",
       "83332.0     1233\n",
       "81839.0     1226\n",
       "83058.0     1220\n",
       "896.0       1205\n",
       "83459.0     1204\n",
       "81199.0     1199\n",
       "81847.0     1175\n",
       "81868.0     1175\n",
       "83439.0     1166\n",
       "81194.0     1160\n",
       "83471.0     1155\n",
       "83532.0     1136\n",
       "82310.0     1127\n",
       "31.0        1124\n",
       "83461.0     1122\n",
       "82919.0     1121\n",
       "83054.0     1116\n",
       "            ... \n",
       "901016.0       1\n",
       "900974.0       1\n",
       "900944.0       1\n",
       "10396.0        1\n",
       "36456.0        1\n",
       "101.0          1\n",
       "9779.0         1\n",
       "9031.0         1\n",
       "35684.0        1\n",
       "9793.0         1\n",
       "58064.0        1\n",
       "9821.0         1\n",
       "44073.0        1\n",
       "902982.0       1\n",
       "902424.0       1\n",
       "8953.0         1\n",
       "8960.0         1\n",
       "35842.0        1\n",
       "30233.0        1\n",
       "901807.0       1\n",
       "901793.0       1\n",
       "35946.0        1\n",
       "9001.0         1\n",
       "901721.0       1\n",
       "9806.0         1\n",
       "901719.0       1\n",
       "901473.0       1\n",
       "901416.0       1\n",
       "9803.0         1\n",
       "36432.0        1\n",
       "Name: ManifestID, Length: 4483, dtype: int64"
      ]
     },
     "execution_count": 15,
     "metadata": {},
     "output_type": "execute_result"
    }
   ],
   "source": [
    "df['ManifestID'].value_counts()"
   ]
  },
  {
   "cell_type": "code",
   "execution_count": 16,
   "metadata": {},
   "outputs": [
    {
     "data": {
      "text/plain": [
       "4483"
      ]
     },
     "execution_count": 16,
     "metadata": {},
     "output_type": "execute_result"
    }
   ],
   "source": [
    "df['ManifestID'].nunique()"
   ]
  },
  {
   "cell_type": "code",
   "execution_count": 17,
   "metadata": {},
   "outputs": [],
   "source": [
    "communes = pd.read_csv('./data/communes_sicily.csv')"
   ]
  },
  {
   "cell_type": "code",
   "execution_count": 18,
   "metadata": {},
   "outputs": [
    {
     "data": {
      "text/html": [
       "<div>\n",
       "<style scoped>\n",
       "    .dataframe tbody tr th:only-of-type {\n",
       "        vertical-align: middle;\n",
       "    }\n",
       "\n",
       "    .dataframe tbody tr th {\n",
       "        vertical-align: top;\n",
       "    }\n",
       "\n",
       "    .dataframe thead th {\n",
       "        text-align: right;\n",
       "    }\n",
       "</style>\n",
       "<table border=\"1\" class=\"dataframe\">\n",
       "  <thead>\n",
       "    <tr style=\"text-align: right;\">\n",
       "      <th></th>\n",
       "      <th>Commune</th>\n",
       "      <th>Province</th>\n",
       "      <th>Population</th>\n",
       "    </tr>\n",
       "  </thead>\n",
       "  <tbody>\n",
       "    <tr>\n",
       "      <th>0</th>\n",
       "      <td>Acate</td>\n",
       "      <td>Ragusa</td>\n",
       "      <td>9,574</td>\n",
       "    </tr>\n",
       "    <tr>\n",
       "      <th>1</th>\n",
       "      <td>Aci Bonaccorsi</td>\n",
       "      <td>Catania</td>\n",
       "      <td>3,200</td>\n",
       "    </tr>\n",
       "    <tr>\n",
       "      <th>2</th>\n",
       "      <td>Aci Castello</td>\n",
       "      <td>Catania</td>\n",
       "      <td>18,122</td>\n",
       "    </tr>\n",
       "    <tr>\n",
       "      <th>3</th>\n",
       "      <td>Aci Catena</td>\n",
       "      <td>Catania</td>\n",
       "      <td>28,749</td>\n",
       "    </tr>\n",
       "    <tr>\n",
       "      <th>4</th>\n",
       "      <td>Aci Sant'Antonio</td>\n",
       "      <td>Catania</td>\n",
       "      <td>17,270</td>\n",
       "    </tr>\n",
       "  </tbody>\n",
       "</table>\n",
       "</div>"
      ],
      "text/plain": [
       "            Commune Province Population\n",
       "0             Acate   Ragusa      9,574\n",
       "1    Aci Bonaccorsi  Catania      3,200\n",
       "2      Aci Castello  Catania     18,122\n",
       "3        Aci Catena  Catania     28,749\n",
       "4  Aci Sant'Antonio  Catania     17,270"
      ]
     },
     "execution_count": 18,
     "metadata": {},
     "output_type": "execute_result"
    }
   ],
   "source": [
    "communes.head()"
   ]
  },
  {
   "cell_type": "code",
   "execution_count": 34,
   "metadata": {},
   "outputs": [],
   "source": [
    "communes_upper = communes['Commune'].str.upper();"
   ]
  },
  {
   "cell_type": "code",
   "execution_count": 37,
   "metadata": {},
   "outputs": [
    {
     "data": {
      "text/plain": [
       "False    729149\n",
       "True      39725\n",
       "Name: CityTownofLastResidence, dtype: int64"
      ]
     },
     "execution_count": 37,
     "metadata": {},
     "output_type": "execute_result"
    }
   ],
   "source": [
    "df['CityTownofLastResidence'].isin(communes_upper).value_counts() #39,725 immigrants from Sicily"
   ]
  },
  {
   "cell_type": "code",
   "execution_count": 39,
   "metadata": {},
   "outputs": [
    {
     "data": {
      "text/plain": [
       "False    768132\n",
       "True        742\n",
       "Name: CityTownofLastResidence, dtype: int64"
      ]
     },
     "execution_count": 39,
     "metadata": {},
     "output_type": "execute_result"
    }
   ],
   "source": [
    "df['CityTownofLastResidence'].isna().value_counts()"
   ]
  },
  {
   "cell_type": "code",
   "execution_count": 40,
   "metadata": {},
   "outputs": [
    {
     "data": {
      "text/plain": [
       "UNKNOWN           456197\n",
       "NO                193426\n",
       "READ & WRITE      119038\n",
       "Undefined Code         2\n",
       "N                      1\n",
       "Name: Literacy, dtype: int64"
      ]
     },
     "execution_count": 40,
     "metadata": {},
     "output_type": "execute_result"
    }
   ],
   "source": [
    "df['Literacy'].value_counts()"
   ]
  },
  {
   "cell_type": "code",
   "execution_count": 43,
   "metadata": {},
   "outputs": [],
   "source": [
    "df.to_csv(\"./data/italians_to_america.csv\")"
   ]
  },
  {
   "cell_type": "code",
   "execution_count": null,
   "metadata": {},
   "outputs": [],
   "source": []
  }
 ],
 "metadata": {
  "kernelspec": {
   "display_name": "Python 3",
   "language": "python",
   "name": "python3"
  },
  "language_info": {
   "codemirror_mode": {
    "name": "ipython",
    "version": 3
   },
   "file_extension": ".py",
   "mimetype": "text/x-python",
   "name": "python",
   "nbconvert_exporter": "python",
   "pygments_lexer": "ipython3",
   "version": "3.7.2"
  }
 },
 "nbformat": 4,
 "nbformat_minor": 2
}
