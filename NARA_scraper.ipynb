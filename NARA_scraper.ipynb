{
 "cells": [
  {
   "cell_type": "code",
   "execution_count": 25,
   "metadata": {},
   "outputs": [],
   "source": [
    "from splinter import Browser\n",
    "from bs4 import BeautifulSoup\n",
    "import csv\n",
    "import time"
   ]
  },
  {
   "cell_type": "code",
   "execution_count": 26,
   "metadata": {},
   "outputs": [],
   "source": [
    "# open a browser\n",
    "browser = Browser('firefox', headless=True)\n",
    "\n",
    "# Navigate to website and wait to load\n",
    "browser.visit('https://aad.archives.gov/aad/display-partial-records.jsp?dt=2123&sc=25913%2C25914%2C25915%2C25917%2C25918%2C25919%2C25920%2C25921%2C25922%2C25923&cat=all&tf=F&bc=%2Csl%2Cfd&q=&as_alq=&as_anq=&as_epq=&as_woq=&nfo_25913=V%2C50%2C1900&op_25913=0&txt_25913=&nfo_25914=V%2C50%2C1900&op_25914=0&txt_25914=&nfo_25915=V%2C10%2C1900&cl_25915=&nfo_25917=V%2C8%2C1900&cl_25917=&nfo_25918=V%2C4%2C1900&cl_25918=&nfo_25919=V%2C3%2C1900&cl_25919=&nfo_25920=V%2C50%2C1900&op_25920=0&txt_25920=&nfo_25921=V%2C20%2C1900&op_25921=0&txt_25921=&nfo_25922=V%2C20%2C1900&cl_25922=R09%2CR13%2CS09%2C%22S+9%22%2CS9%2CS13%2CS15&nfo_25923=N%2C8%2C1900&op_25923=3&txt_25923=&txt_25923=&rpp=50')\n",
    "time.sleep(5)\n",
    "\n",
    "\n",
    "# HTML of message page\n",
    "soup = BeautifulSoup(browser.driver.page_source)\n",
    "#print(soup.prettify())"
   ]
  },
  {
   "cell_type": "code",
   "execution_count": 30,
   "metadata": {},
   "outputs": [],
   "source": [
    "# extract table\n",
    "table = soup.find(id='queryResults')\n",
    "#print(table)"
   ]
  },
  {
   "cell_type": "code",
   "execution_count": 32,
   "metadata": {},
   "outputs": [
    {
     "name": "stdout",
     "output_type": "stream",
     "text": [
      "[['\\n\\n', 'ZERONI', 'CARLO', '39', 'MANUFACTURER', 'READ & WRITE', 'ITALY', 'MIDDLESEX', 'CALIFORNIA', 'Return trip to USA - non US Citizen [Transit]; Cabin Passenger [Travel]', '82279'], ['\\n\\n', 'ARATA', 'ANNA', '16', 'FARMER', 'UNKNOWN', 'ITALY', 'SAN-FRANCISCO', 'SAN-FRANCISCO', 'Return trip to USA - non US Citizen [Transit]; Steer[Travel]', '80120'], ['\\n\\n', 'BRILLANTI', 'SALVATORE', '34', 'FISHERMAN', 'NO', 'ITALY', 'ITALY', 'NEW YORK', 'Return trip to USA - non US Citizen [Transit]; Steer[Travel]', '82224'], ['\\n\\n', 'BUONGIORNO', 'ANTONIO', '49', 'BLACKSMITH', 'READ & WRITE', 'ITALY', 'SCIACCA', 'NEW YORK', 'Return trip to USA - non US Citizen [Transit]; Steer[Travel]', '82236'], ['\\n\\n', 'BUONGIORNO', 'GIUSEPPE', '60', 'BLACKSMITH', 'READ & WRITE', 'ITALY', 'SCIACCA', 'NEW YORK', 'Return trip to USA - non US Citizen [Transit]; Steer[Travel]', '82236'], ['\\n\\n', 'CARUSO', 'FRANCESCA', 'Infant in months: 10', 'INFANT', 'NO', 'ITALY', 'SCIACCA', 'NEW YORK', 'Return trip to USA - non US Citizen [Transit]; Steer[Travel]', '82236'], ['\\n\\n', 'CARUSO', 'FRANCESCO', '03', 'CHILD, YOUNGSTER', 'NO', 'ITALY', 'SCIACCA', 'NEW YORK', 'Return trip to USA - non US Citizen [Transit]; Steer[Travel]', '82236'], ['\\n\\n', 'CARUSO', 'ROSA', '38', 'WIFE', 'READ & WRITE', 'ITALY', 'SCIACCA', 'NEW YORK', 'Return trip to USA - non US Citizen [Transit]; Steer[Travel]', '82236'], ['\\n\\n', 'CATALOZZI', 'ALESSANDRO', '36', 'PEASANT', 'NO', 'ITALY', 'ITALY', 'NEW YORK', 'Return trip to USA - non US Citizen [Transit]; Steer[Travel]', '82224'], ['\\n\\n', 'CATALOZZI', 'MANEUZIO', '07', 'PEASANT', 'NO', 'ITALY', 'ITALY', 'NEW YORK', 'Return trip to USA - non US Citizen [Transit]; Steer[Travel]', '82224'], ['\\n\\n', 'CATALOZZI', 'MARIA', '30', 'PEASANT', 'NO', 'ITALY', 'ITALY', 'NEW YORK', 'Return trip to USA - non US Citizen [Transit]; Steer[Travel]', '82224'], ['\\n\\n', 'CORREALE', 'GIOVANNI', '32', 'CARPENTER', 'READ & WRITE', 'ITALY', 'ROCCAPIEMONTE', 'NEW YORK', 'Return trip to USA - non US Citizen [Transit]; Steer[Travel]', '82236'], ['\\n\\n', 'LORENZI', 'LAURENZO', '30', 'PLASTERER', 'UNKNOWN', 'ITALY', 'NEW YORK', 'NEW YORK', 'Return trip to USA - non US Citizen [Transit]; Steer[Travel]', '80120'], ['\\n\\n', 'SACCO', 'CATERINA', '70', 'WIFE', 'NO', 'ITALY', 'SAMBUCO', 'NEW YORK', 'Return trip to USA - non US Citizen [Transit]; Steer[Travel]', '82236'], ['\\n\\n', 'SAMMARCO', 'ALFREDO', '02', 'CHILD, YOUNGSTER', 'NO', 'ITALY', 'ROCCAPIEMONTE', 'NEW YORK', 'Return trip to USA - non US Citizen [Transit]; Steer[Travel]', '82236'], ['\\n\\n', 'SAMMARCO', 'ERNESTO', 'Infant in months: 11', 'INFANT', 'NO', 'ITALY', 'ROCCAPIEMONTE', 'NEW YORK', 'Return trip to USA - non US Citizen [Transit]; Steer[Travel]', '82236'], ['\\n\\n', 'SAMMARCO', 'TERESA', '26', 'WIFE', 'READ & WRITE', 'ITALY', 'ROCCAPIEMONTE', 'NEW YORK', 'Return trip to USA - non US Citizen [Transit]; Steer[Travel]', '82236'], ['\\n\\n', 'VICE', 'GIUSEPPE', '17', 'MUSICIAN', 'READ & WRITE', 'ITALY', 'CONTURSI', 'PHILADELPHIA-PA', 'Return trip to USA - non US Citizen [Transit]; Steer[Travel]', '82236'], ['\\n\\n', 'ACHEI', 'SERAFINO', '49', 'LABORER', 'UNKNOWN', 'ITALY', 'U', 'NEW YORK', 'Staying in the USA [Transit]; Cabin Passenger [Travel]', '11023'], ['\\n\\n', 'ACHEI', 'SERAFINO', '49', 'LABORER', 'UNKNOWN', 'ITALY', 'U', 'NEW-YORK', 'Staying in the USA [Transit]; Cabin Passenger [Travel]', '11023'], ['\\n\\n', 'BALDI', 'AMELIA', '25', 'HOUSEWIFE', 'UNKNOWN', 'ITALY', 'U', 'NEW YORK', 'Staying in the USA [Transit]; Cabin Passenger [Travel]', '11023'], ['\\n\\n', 'BALDI', 'AMELIA', '25', 'HOUSEWIFE', 'UNKNOWN', 'ITALY', 'U', 'NEW-YORK', 'Staying in the USA [Transit]; Cabin Passenger [Travel]', '11023'], ['\\n\\n', 'BALDI', 'BALDO', '08', 'CHILD, YOUNGSTER', 'UNKNOWN', 'ITALY', 'U', 'NEW YORK', 'Staying in the USA [Transit]; Cabin Passenger [Travel]', '11023'], ['\\n\\n', 'BALDI', 'BALDO', '08', 'CHILD, YOUNGSTER', 'UNKNOWN', 'ITALY', 'U', 'NEW-YORK', 'Staying in the USA [Transit]; Cabin Passenger [Travel]', '11023'], ['\\n\\n', 'BALDI', 'RAOUL', '02', 'CHILD, YOUNGSTER', 'UNKNOWN', 'ITALY', 'U', 'NEW YORK', 'Staying in the USA [Transit]; Cabin Passenger [Travel]', '11023'], ['\\n\\n', 'BALDI', 'RAOUL', '02', 'CHILD, YOUNGSTER', 'UNKNOWN', 'ITALY', 'U', 'NEW-YORK', 'Staying in the USA [Transit]; Cabin Passenger [Travel]', '11023'], ['\\n\\n', 'BATTAINI', 'DANTE', '41', 'NONE', 'UNKNOWN', 'ITALY', 'U', 'USA', 'Staying in the USA [Transit]; Cabin Passenger [Travel]', '11021'], ['\\n\\n', 'BELLO', 'ANGELICA', '25', 'NONE', 'UNKNOWN', 'ITALY', 'U', 'USA', 'Staying in the USA [Transit]; Cabin Passenger [Travel]', '11021'], ['\\n\\n', 'BENVENUTI', 'EGISTO', '28', 'NONE', 'UNKNOWN', 'ITALY', 'U', 'USA', 'Staying in the USA [Transit]; Cabin Passenger [Travel]', '11021'], ['\\n\\n', 'BERTONERI', 'ADRIANO', '34', 'SCULPTOR, SCULPTURER', 'UNKNOWN', 'ITALY', 'U', 'NEW YORK', 'Staying in the USA [Transit]; Cabin Passenger [Travel]', '11023'], ['\\n\\n', 'BERTONERI', 'ADRIANO', '34', 'SCULPTOR, SCULPTURER', 'UNKNOWN', 'ITALY', 'U', 'NEW-YORK', 'Staying in the USA [Transit]; Cabin Passenger [Travel]', '11023'], ['\\n\\n', 'BIONDI', 'FILIPPO', '44', 'DOCTOR OF MEDICINE', 'UNKNOWN', 'ITALY', 'U', 'SAN-DOMINGO', 'Staying in the USA [Transit]; Cabin Passenger [Travel]', '11023'], ['\\n\\n', 'BRUSCO', 'DELIA', '38', 'NONE', 'UNKNOWN', 'ITALY', 'U', 'USA', 'Staying in the USA [Transit]; Cabin Passenger [Travel]', '11021'], ['\\n\\n', 'BRUSCO', 'MARIA-DELIA', '23', 'NONE', 'UNKNOWN', 'ITALY', 'U', 'USA', 'Staying in the USA [Transit]; Cabin Passenger [Travel]', '11021'], ['\\n\\n', 'CAMPODONICO', 'ADOLFO', '17', 'CLERK', 'UNKNOWN', 'ITALY', 'U', 'PENSACOLA', 'Staying in the USA [Transit]; Cabin Passenger [Travel]', '11023'], ['\\n\\n', 'CARBONINO', 'AMALIA', '30', \"SERVANT, GENTLEMAN'S SERVANT\", 'UNKNOWN', 'ITALY', 'U', 'NEW YORK', 'Staying in the USA [Transit]; Cabin Passenger [Travel]', '11023'], ['\\n\\n', 'CARBONINO', 'AMALIA', '30', \"SERVANT, GENTLEMAN'S SERVANT\", 'UNKNOWN', 'ITALY', 'U', 'NEW-YORK', 'Staying in the USA [Transit]; Cabin Passenger [Travel]', '11023'], ['\\n\\n', 'CASTELLI', 'BONARDINO', '31', 'NONE', 'UNKNOWN', 'ITALY', 'U', 'USA', 'Staying in the USA [Transit]; Cabin Passenger [Travel]', '11021'], ['\\n\\n', 'CHIAPPA', 'POMPEO', '21', 'LABORER', 'UNKNOWN', 'ITALY', 'U', 'NEW YORK', 'Staying in the USA [Transit]; Cabin Passenger [Travel]', '11023'], ['\\n\\n', 'CHIAPPA', 'POMPEO', '21', 'LABORER', 'UNKNOWN', 'ITALY', 'U', 'NEW-YORK', 'Staying in the USA [Transit]; Cabin Passenger [Travel]', '11023'], ['\\n\\n', 'DELBRENNA', 'EUGENIO', '26', 'LAWYER', 'UNKNOWN', 'ITALY', 'U', 'NEW YORK', 'Staying in the USA [Transit]; Cabin Passenger [Travel]', '11023'], ['\\n\\n', 'DELBRENNA', 'EUGENIO', '26', 'LAWYER', 'UNKNOWN', 'ITALY', 'U', 'NEW-YORK', 'Staying in the USA [Transit]; Cabin Passenger [Travel]', '11023'], ['\\n\\n', 'DELGAMBA', 'ELVIRA', '50', 'HOUSEWIFE', 'UNKNOWN', 'ITALY', 'U', 'NEW YORK', 'Staying in the USA [Transit]; Cabin Passenger [Travel]', '11023'], ['\\n\\n', 'DELGAMBA', 'ELVIRA', '50', 'HOUSEWIFE', 'UNKNOWN', 'ITALY', 'U', 'NEW-YORK', 'Staying in the USA [Transit]; Cabin Passenger [Travel]', '11023'], ['\\n\\n', 'DELGAMBA', 'EMILIA', '12', 'NONE', 'UNKNOWN', 'ITALY', 'U', 'NEW YORK', 'Staying in the USA [Transit]; Cabin Passenger [Travel]', '11023'], ['\\n\\n', 'DELGAMBA', 'EMILIA', '12', 'NONE', 'UNKNOWN', 'ITALY', 'U', 'NEW-YORK', 'Staying in the USA [Transit]; Cabin Passenger [Travel]', '11023'], ['\\n\\n', 'DELGAMBA', 'ENRICO', '20', 'BOOK-KEEPER', 'UNKNOWN', 'ITALY', 'U', 'NEW YORK', 'Staying in the USA [Transit]; Cabin Passenger [Travel]', '11023'], ['\\n\\n', 'DELGAMBA', 'ENRICO', '20', 'BOOK-KEEPER', 'UNKNOWN', 'ITALY', 'U', 'NEW-YORK', 'Staying in the USA [Transit]; Cabin Passenger [Travel]', '11023'], ['\\n\\n', 'DELGAMBA', 'GUIDO', '13', 'NONE', 'UNKNOWN', 'ITALY', 'U', 'NEW YORK', 'Staying in the USA [Transit]; Cabin Passenger [Travel]', '11023'], ['\\n\\n', 'DELGAMBA', 'GUIDO', '13', 'NONE', 'UNKNOWN', 'ITALY', 'U', 'NEW-YORK', 'Staying in the USA [Transit]; Cabin Passenger [Travel]', '11023']]\n"
     ]
    }
   ],
   "source": [
    "list_of_rows = []\n",
    "for row in table.findAll('tr')[2:]:\n",
    "    list_of_cells = []\n",
    "    for cell in row.findAll('td'):\n",
    "        text = cell.text.replace('age ', '')\n",
    "        list_of_cells.append(text)\n",
    "    list_of_rows.append(list_of_cells)\n",
    "\n",
    "print(list_of_rows)"
   ]
  },
  {
   "cell_type": "code",
   "execution_count": null,
   "metadata": {},
   "outputs": [],
   "source": []
  }
 ],
 "metadata": {
  "kernelspec": {
   "display_name": "Python 3",
   "language": "python",
   "name": "python3"
  },
  "language_info": {
   "codemirror_mode": {
    "name": "ipython",
    "version": 3
   },
   "file_extension": ".py",
   "mimetype": "text/x-python",
   "name": "python",
   "nbconvert_exporter": "python",
   "pygments_lexer": "ipython3",
   "version": "3.7.2"
  }
 },
 "nbformat": 4,
 "nbformat_minor": 2
}
